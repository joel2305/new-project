{
 "cells": [
  {
   "cell_type": "code",
   "execution_count": 7,
   "id": "7ffba744-6d06-4bea-9735-6910bf886e74",
   "metadata": {},
   "outputs": [],
   "source": [
    "import pandas as pd"
   ]
  },
  {
   "cell_type": "code",
   "execution_count": null,
   "id": "388e3072-8104-43ae-bec9-034543cfb750",
   "metadata": {},
   "outputs": [],
   "source": [
    "df=pd.read_csv(\"http://localhost:8888/lab/tree/population-Copy1.csv\")"
   ]
  },
  {
   "cell_type": "code",
   "execution_count": null,
   "id": "32189803-155a-42ec-80ef-38cd4a42a503",
   "metadata": {},
   "outputs": [],
   "source": []
  }
 ],
 "metadata": {
  "kernelspec": {
   "display_name": "Python 3 (ipykernel)",
   "language": "python",
   "name": "python3"
  },
  "language_info": {
   "codemirror_mode": {
    "name": "ipython",
    "version": 3
   },
   "file_extension": ".py",
   "mimetype": "text/x-python",
   "name": "python",
   "nbconvert_exporter": "python",
   "pygments_lexer": "ipython3",
   "version": "3.12.7"
  }
 },
 "nbformat": 4,
 "nbformat_minor": 5
}
