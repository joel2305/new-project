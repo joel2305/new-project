{
 "cells": [
  {
   "cell_type": "code",
   "execution_count": null,
   "id": "c5475197-a711-4e43-99fb-e427521f3fb4",
   "metadata": {},
   "outputs": [],
   "source": []
  }
 ],
 "metadata": {
  "kernelspec": {
   "display_name": "",
   "name": ""
  },
  "language_info": {
   "name": ""
  }
 },
 "nbformat": 4,
 "nbformat_minor": 5
}
